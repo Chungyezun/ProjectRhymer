{
 "cells": [
  {
   "cell_type": "code",
   "execution_count": 1,
   "metadata": {},
   "outputs": [],
   "source": [
    "import nltk\n",
    "\n",
    "original_sent = input(\"> \")"
   ]
  },
  {
   "cell_type": "code",
   "execution_count": 2,
   "metadata": {},
   "outputs": [],
   "source": [
    "original_tokens = nltk.word_tokenize(original_sent)\n",
    "original_tokens = [w.lower() for w in original_tokens]"
   ]
  },
  {
   "cell_type": "code",
   "execution_count": 3,
   "metadata": {},
   "outputs": [
    {
     "name": "stdout",
     "output_type": "stream",
     "text": [
      "['hello', ',', 'i', 'bought', 'a', 'new', 'dog', '.']\n"
     ]
    }
   ],
   "source": [
    "print(original_tokens)"
   ]
  },
  {
   "cell_type": "code",
   "execution_count": 1,
   "metadata": {},
   "outputs": [],
   "source": [
    "import pronunciation as P"
   ]
  },
  {
   "cell_type": "code",
   "execution_count": 5,
   "metadata": {},
   "outputs": [
    {
     "ename": "TypeError",
     "evalue": "_is_similar() missing 1 required positional argument: 'similarity_func'",
     "output_type": "error",
     "traceback": [
      "\u001b[1;31m---------------------------------------------------------------------------\u001b[0m",
      "\u001b[1;31mTypeError\u001b[0m                                 Traceback (most recent call last)",
      "Cell \u001b[1;32mIn[5], line 1\u001b[0m\n\u001b[1;32m----> 1\u001b[0m step1_tokens \u001b[38;5;241m=\u001b[39m \u001b[43mP\u001b[49m\u001b[38;5;241;43m.\u001b[39;49m\u001b[43mget_similars_by_cmu\u001b[49m\u001b[43m(\u001b[49m\n\u001b[0;32m      2\u001b[0m \u001b[43m    \u001b[49m\u001b[43moriginal_tokens\u001b[49m\u001b[43m,\u001b[49m\n\u001b[0;32m      3\u001b[0m \u001b[43m    \u001b[49m\u001b[43mP\u001b[49m\u001b[38;5;241;43m.\u001b[39;49m\u001b[43msimfunc\u001b[49m\u001b[43m(\u001b[49m\u001b[43mP\u001b[49m\u001b[38;5;241;43m.\u001b[39;49m\u001b[43mcheck_similarity_lcs\u001b[49m\u001b[43m,\u001b[49m\u001b[43m \u001b[49m\u001b[43mrel_thres\u001b[49m\u001b[38;5;241;43m=\u001b[39;49m\u001b[38;5;241;43m0.5\u001b[39;49m\u001b[43m,\u001b[49m\u001b[43m \u001b[49m\u001b[43mabs_thres\u001b[49m\u001b[38;5;241;43m=\u001b[39;49m\u001b[38;5;241;43m2\u001b[39;49m\u001b[43m)\u001b[49m\n\u001b[0;32m      4\u001b[0m \u001b[43m    \u001b[49m\u001b[43m)\u001b[49m\n\u001b[0;32m      6\u001b[0m \u001b[38;5;28mprint\u001b[39m(step1_tokens)\n",
      "File \u001b[1;32mc:\\Projects\\cs372-ProjectRhymer\\pronunciation.py:39\u001b[0m, in \u001b[0;36mget_similars_by_cmu\u001b[1;34m(tokens, similarity_func)\u001b[0m\n\u001b[0;32m     38\u001b[0m \u001b[38;5;28;01mdef\u001b[39;00m \u001b[38;5;21mget_similars_by_cmu\u001b[39m(tokens, similarity_func):\n\u001b[1;32m---> 39\u001b[0m     \u001b[38;5;28;01mreturn\u001b[39;00m \u001b[38;5;28;43mlist\u001b[39;49m\u001b[43m(\u001b[49m\u001b[38;5;28;43mmap\u001b[39;49m\u001b[43m(\u001b[49m\n\u001b[0;32m     40\u001b[0m \u001b[43m        \u001b[49m\u001b[38;5;28;43;01mlambda\u001b[39;49;00m\u001b[43m \u001b[49m\u001b[43mx\u001b[49m\u001b[43m:\u001b[49m\u001b[43m \u001b[49m\u001b[43m(\u001b[49m\u001b[43mx\u001b[49m\u001b[43m,\u001b[49m\n\u001b[0;32m     41\u001b[0m \u001b[43m        \u001b[49m\u001b[38;5;28;43mlist\u001b[39;49m\u001b[43m(\u001b[49m\u001b[43m_get_word_similars_by_cmu\u001b[49m\u001b[43m(\u001b[49m\u001b[43mx\u001b[49m\u001b[43m,\u001b[49m\u001b[43m \u001b[49m\u001b[43msimilarity_func\u001b[49m\u001b[43m)\u001b[49m\u001b[43m)\u001b[49m\u001b[43m)\u001b[49m\n\u001b[0;32m     42\u001b[0m \u001b[43m        \u001b[49m\u001b[43m,\u001b[49m\u001b[43m \u001b[49m\u001b[43mtokens\u001b[49m\u001b[43m)\u001b[49m\u001b[43m)\u001b[49m\n",
      "File \u001b[1;32mc:\\Projects\\cs372-ProjectRhymer\\pronunciation.py:41\u001b[0m, in \u001b[0;36mget_similars_by_cmu.<locals>.<lambda>\u001b[1;34m(x)\u001b[0m\n\u001b[0;32m     38\u001b[0m \u001b[38;5;28;01mdef\u001b[39;00m \u001b[38;5;21mget_similars_by_cmu\u001b[39m(tokens, similarity_func):\n\u001b[0;32m     39\u001b[0m     \u001b[38;5;28;01mreturn\u001b[39;00m \u001b[38;5;28mlist\u001b[39m(\u001b[38;5;28mmap\u001b[39m(\n\u001b[0;32m     40\u001b[0m         \u001b[38;5;28;01mlambda\u001b[39;00m x: (x,\n\u001b[1;32m---> 41\u001b[0m         \u001b[38;5;28mlist\u001b[39m(\u001b[43m_get_word_similars_by_cmu\u001b[49m\u001b[43m(\u001b[49m\u001b[43mx\u001b[49m\u001b[43m,\u001b[49m\u001b[43m \u001b[49m\u001b[43msimilarity_func\u001b[49m\u001b[43m)\u001b[49m))\n\u001b[0;32m     42\u001b[0m         , tokens))\n",
      "File \u001b[1;32mc:\\Projects\\cs372-ProjectRhymer\\pronunciation.py:34\u001b[0m, in \u001b[0;36m_get_word_similars_by_cmu\u001b[1;34m(word, similarity_func)\u001b[0m\n\u001b[0;32m     32\u001b[0m \u001b[38;5;28;01mfor\u001b[39;00m curr \u001b[38;5;129;01min\u001b[39;00m _wordlist:\n\u001b[0;32m     33\u001b[0m     pr \u001b[38;5;241m=\u001b[39m _cmu[curr]\n\u001b[1;32m---> 34\u001b[0m     \u001b[38;5;28;01mif\u001b[39;00m \u001b[43m_is_similar\u001b[49m\u001b[43m(\u001b[49m\u001b[43mpronuns\u001b[49m\u001b[43m,\u001b[49m\u001b[43m \u001b[49m\u001b[43mpr\u001b[49m\u001b[43m)\u001b[49m:\n\u001b[0;32m     35\u001b[0m         result\u001b[38;5;241m.\u001b[39madd(curr)\n\u001b[0;32m     36\u001b[0m \u001b[38;5;28;01mreturn\u001b[39;00m result\n",
      "\u001b[1;31mTypeError\u001b[0m: _is_similar() missing 1 required positional argument: 'similarity_func'"
     ]
    }
   ],
   "source": [
    "step1_tokens = P.get_similars(\n",
    "    original_tokens,\n",
    "    P.mapping_cmu,\n",
    "    P.simfunc_lcs(rel_thres=0.5, abs_thres=2)\n",
    "    )\n",
    "\n",
    "# step1_tokens = P.get_similars(\n",
    "#     original_tokens,\n",
    "#     P.mapping_soundex,\n",
    "#     P.simfunc_lcs(rel_thres=0, abs_thres=3)\n",
    "#     )\n",
    "\n",
    "print(step1_tokens)"
   ]
  },
  {
   "cell_type": "code",
   "execution_count": 7,
   "metadata": {},
   "outputs": [],
   "source": [
    "def pick_one(mapped_tokens):\n",
    "    return list(map(lambda x: x[1][0], mapped_tokens))\n",
    "\n",
    "step2_tokens = pick_one(step1_tokens)"
   ]
  },
  {
   "cell_type": "code",
   "execution_count": 8,
   "metadata": {},
   "outputs": [
    {
     "name": "stdout",
     "output_type": "stream",
     "text": [
      "hello .\n"
     ]
    }
   ],
   "source": [
    "output_sent = ' '.join(step2_tokens)\n",
    "\n",
    "print(output_sent)"
   ]
  }
 ],
 "metadata": {
  "kernelspec": {
   "display_name": "Python 3",
   "language": "python",
   "name": "python3"
  },
  "language_info": {
   "codemirror_mode": {
    "name": "ipython",
    "version": 3
   },
   "file_extension": ".py",
   "mimetype": "text/x-python",
   "name": "python",
   "nbconvert_exporter": "python",
   "pygments_lexer": "ipython3",
   "version": "3.12.3"
  }
 },
 "nbformat": 4,
 "nbformat_minor": 2
}
